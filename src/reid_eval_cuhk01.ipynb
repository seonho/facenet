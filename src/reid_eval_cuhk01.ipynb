{
 "cells": [
  {
   "cell_type": "code",
   "execution_count": 1,
   "metadata": {
    "collapsed": false
   },
   "outputs": [],
   "source": [
    "import json\n",
    "import os.path as osp\n",
    "import numpy as np\n",
    "\n",
    "def _get_list(identities):\n",
    "    ret = []\n",
    "    for views in identities:\n",
    "        for v in views:\n",
    "            for file in v:\n",
    "                label = int(osp.basename(file)[:5])\n",
    "                ret.append((file, label))\n",
    "    return np.asarray(ret)\n",
    "\n",
    "base_path = '../datasets/CUHK01_original'\n",
    "\n",
    "with open(osp.join(base_path, 'split.json')) as f:\n",
    "    split = json.load(f)\n",
    "#     data = json.load(f)\n",
    "#     trainval = data['trainval']\n",
    "#     test_probe = data['test_probe']\n",
    "#     test_gallery = data['test_gallery']\n",
    "#     del data\n",
    "\n",
    "with open(osp.join(base_path, 'meta.json')) as f:\n",
    "    data = json.load(f)\n",
    "#     for key, value in data.items():\n",
    "#         print(key)\n",
    "    shot = data['shot']\n",
    "    identities = np.asarray(data['identities'])\n",
    "    dabase_name = data['name']\n",
    "    num_cameras = data['num_cameras']\n",
    "    del data\n",
    "\n",
    "# # extract features\n",
    "# print(meta)\n",
    "\n",
    "test_probe, test_gallery = [], []\n",
    "for views in identities[split['test_probe']]:\n",
    "    test_probe.append(views[:len(views) // 2])\n",
    "    test_gallery.append(views[len(views) // 2:])\n",
    "only_in_gallery = list(set(split['test_gallery']) - set(split['test_probe']))\n",
    "test_gallery.extend(identities[only_in_gallery])\n",
    "test_probe = _get_list(test_probe)\n",
    "test_gallery = _get_list(test_gallery)"
   ]
  },
  {
   "cell_type": "code",
   "execution_count": 2,
   "metadata": {
    "collapsed": false
   },
   "outputs": [],
   "source": [
    "def _split(pairs):\n",
    "    path = [osp.join(base_path, pair[0]) for pair in pairs]\n",
    "    label = [int(pair[1]) for pair in pairs]\n",
    "    return path, label\n",
    "\n",
    "PP, PY = _split(test_probe)\n",
    "GP, GY = _split(test_gallery)\n",
    "\n",
    "unique_labels = np.unique(np.r_[PY, GY])\n",
    "labels_map = {l: i for i, l in enumerate(unique_labels)}\n",
    "PY = np.asarray([labels_map[l] for l in PY])\n",
    "GY = np.asarray([labels_map[l] for l in GY])"
   ]
  },
  {
   "cell_type": "code",
   "execution_count": 3,
   "metadata": {
    "collapsed": true
   },
   "outputs": [],
   "source": [
    "# extract features\n",
    "def extract_features(model_path, image_paths):\n",
    "    import tensorflow as tf\n",
    "    import importlib\n",
    "    import facenet\n",
    "    import scipy.misc\n",
    "    \n",
    "    with tf.Graph().as_default():\n",
    "        with tf.Session() as sess:\n",
    "            with tf.device(\"/cpu:0\"):\n",
    "                # Load the model\n",
    "                print('Loading model \"%s\"' % model_path)\n",
    "                facenet.load_model(model_path)\n",
    "\n",
    "                # Get input and output tensors\n",
    "                images_placeholder = tf.get_default_graph().get_tensor_by_name(\"input:0\")\n",
    "                phase_train_placeholder = tf.get_default_graph().get_tensor_by_name(\"phase_train:0\")\n",
    "                embeddings = tf.get_default_graph().get_tensor_by_name(\"embeddings:0\")\n",
    "                image_size = images_placeholder.get_shape()\n",
    "                n = len(image_paths)\n",
    "                features = np.zeros((n, 128))\n",
    "                images = np.zeros((n, image_size[1], image_size[2], image_size[3]))\n",
    "                for i, image_path in enumerate(image_paths):\n",
    "                    image = scipy.misc.imread(image_path)\n",
    "                    images[i, :, :, :] = scipy.misc.imresize(image, (160, 60))\n",
    "                feed_dict = { images_placeholder:images, phase_train_placeholder:True }\n",
    "                features = sess.run(embeddings, feed_dict=feed_dict)\n",
    "        return features"
   ]
  },
  {
   "cell_type": "code",
   "execution_count": 4,
   "metadata": {
    "collapsed": false
   },
   "outputs": [
    {
     "name": "stdout",
     "output_type": "stream",
     "text": [
      "Loading model \"../trained/nn4_small2_reid3/cuhk01/20161103-151633/model.ckpt-30000\"\n",
      "Loading model \"../trained/nn4_small2_reid3/cuhk01/20161103-151633/model.ckpt-30000\"\n"
     ]
    }
   ],
   "source": [
    "# pretrained_model_file = '../trained/nn4_small2_reid3/20161103-003809/model.ckpt-200000'\n",
    "# pretrained_model_file = '../trained/nn4_small2_reid3/20161103-054027/model.ckpt-294800'\n",
    "# pretrained_model_file = '../trained/nn4_small2_reid3/20161103-105422/model.ckpt-336200'\n",
    "\n",
    "# pretrained_model_file = '../trained/nn4_small2_reid3/cuhk01/20161103-132622/model.ckpt-10000'\n",
    "# pretrained_model_file = '../trained/nn4_small2_reid3/cuhk01/20161103-142316/model.ckpt-20000'\n",
    "# pretrained_model_file = '../trained/nn4_small2_reid3/cuhk01/20161103-144912/model.ckpt-23200'\n",
    "pretrained_model_file = '../trained/nn4_small2_reid3/cuhk01/20161103-151633/model.ckpt-30000'\n",
    "\n",
    "# pretrained_model_file = '../trained/nn4_small2_reid3/cuhk03/20161102-191257/model.ckpt-10000'\n",
    "\n",
    "PX = extract_features(pretrained_model_file, PP)\n",
    "GX = extract_features(pretrained_model_file, GP)"
   ]
  },
  {
   "cell_type": "code",
   "execution_count": 5,
   "metadata": {
    "collapsed": true
   },
   "outputs": [],
   "source": [
    "from sklearn.metrics.pairwise import pairwise_distances\n",
    "from utils import *\n",
    "\n",
    "D = pairwise_distances(GX, PX, n_jobs=-2)\n",
    "C = cmc(D, GY, PY)"
   ]
  },
  {
   "cell_type": "code",
   "execution_count": 6,
   "metadata": {
    "collapsed": false
   },
   "outputs": [
    {
     "data": {
      "image/png": "[encoded data removed]",
      "text/plain": [
       "<matplotlib.figure.Figure at 0x7f6159131f10>"
      ]
     },
     "metadata": {},
     "output_type": "display_data"
    }
   ],
   "source": [
    "%matplotlib inline\n",
    "\n",
    "import matplotlib.pyplot as plt\n",
    "\n",
    "N = 20\n",
    "plt.plot(range(1, N+1), C[:N])\n",
    "plt.title('Cumulative Match Characteristic(CMC) curve')\n",
    "plt.xlabel('Rank')\n",
    "plt.ylabel('Recognition rate')\n",
    "plt.show()"
   ]
  }
 ],
 "metadata": {
  "kernelspec": {
   "display_name": "Python 2",
   "language": "python",
   "name": "python2"
  },
  "language_info": {
   "codemirror_mode": {
    "name": "ipython",
    "version": 2
   },
   "file_extension": ".py",
   "mimetype": "text/x-python",
   "name": "python",
   "nbconvert_exporter": "python",
   "pygments_lexer": "ipython2",
   "version": "2.7.6"
  }
 },
 "nbformat": 4,
 "nbformat_minor": 0
}
