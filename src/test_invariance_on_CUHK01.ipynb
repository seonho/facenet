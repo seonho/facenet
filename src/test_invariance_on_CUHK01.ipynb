{
 "cells": [
  {
   "cell_type": "code",
   "execution_count": 5,
   "metadata": {
    "collapsed": false
   },
   "outputs": [
    {
     "name": "stdout",
     "output_type": "stream",
     "text": [
      "Loading model \"../trained/model.ckpt-70000\"\n"
     ]
    }
   ],
   "source": [
    "import tensorflow as tf\n",
    "import numpy as np\n",
    "import importlib\n",
    "import facenet\n",
    "\n",
    "data_dir = '../datasets/CUHK01'\n",
    "pretrained_model_file = '../trained/model.ckpt-70000'\n",
    "network = importlib.import_module('models.nn4_small2_reid', 'inference')\n",
    "\n",
    "# train_set = facenet.get_dataset(data_dir)\n",
    "# print(train_set)\n",
    "\n",
    "with tf.Graph().as_default():\n",
    "    with tf.Session() as sess:\n",
    "        # Load the model\n",
    "        print('Loading model \"%s\"' % pretrained_model_file)\n",
    "        facenet.load_model(pretrained_model_file)\n",
    "        \n",
    "        # Get input and output tensors\n",
    "        images_placeholder = tf.get_default_graph().get_tensor_by_name(\"input:0\")\n",
    "        phase_train_placeholder = tf.get_default_graph().get_tensor_by_name(\"phase_train:0\")\n",
    "        embeddings = tf.get_default_graph().get_tensor_by_name(\"embeddings:0\")\n",
    "        image_size = images_placeholder.get_shape()\n",
    "#         print(image_size)"
   ]
  }
 ],
 "metadata": {
  "kernelspec": {
   "display_name": "Python 2",
   "language": "python",
   "name": "python2"
  },
  "language_info": {
   "codemirror_mode": {
    "name": "ipython",
    "version": 2
   },
   "file_extension": ".py",
   "mimetype": "text/x-python",
   "name": "python",
   "nbconvert_exporter": "python",
   "pygments_lexer": "ipython2",
   "version": "2.7.6"
  }
 },
 "nbformat": 4,
 "nbformat_minor": 0
}
