{
 "cells": [
  {
   "cell_type": "code",
   "execution_count": 3,
   "metadata": {
    "collapsed": false
   },
   "outputs": [
    {
     "name": "stdout",
     "output_type": "stream",
     "text": [
      "Loading model \"../trained/facenet/20161028-190939/model.ckpt-10000\"\n"
     ]
    }
   ],
   "source": [
    "import tensorflow as tf\n",
    "import numpy as np\n",
    "import importlib\n",
    "import facenet\n",
    "\n",
    "from scipy import misc\n",
    "\n",
    "data_dir = '../datasets/CUHK01'\n",
    "pretrained_model_file = '../trained/facenet/20161028-190939/model.ckpt-10000'\n",
    "network = importlib.import_module('models.nn4_small2_reid2', 'inference')\n",
    "\n",
    "# train_set = facenet.get_dataset(data_dir)\n",
    "\n",
    "def get_dataset(paths):\n",
    "    import os\n",
    "    dataset = []\n",
    "    for path in paths.split(':'):\n",
    "        path_exp = os.path.expanduser(path)\n",
    "        classes = os.listdir(path_exp)\n",
    "        classes.sort()\n",
    "        nrof_classes = len(classes)\n",
    "        for i in range(nrof_classes):\n",
    "            class_name = classes[i]\n",
    "            facedir = os.path.join(path_exp, class_name)\n",
    "            if os.path.isdir(facedir):\n",
    "                images = os.listdir(facedir)\n",
    "                image_paths = sorted([os.path.join(facedir,img) for img in images])\n",
    "                dataset.append(image_paths)\n",
    "    return dataset\n",
    "# print(train_set)\n",
    "\n",
    "dataset = get_dataset(data_dir)\n",
    "\n",
    "n_classes = len(dataset)\n",
    "n_total_samples = n_classes * 4\n",
    "\n",
    "with tf.Graph().as_default():\n",
    "    with tf.Session() as sess:\n",
    "        # Load the model\n",
    "        print('Loading model \"%s\"' % pretrained_model_file)\n",
    "        facenet.load_model(pretrained_model_file)\n",
    "        \n",
    "        # Get input and output tensors\n",
    "        images_placeholder = tf.get_default_graph().get_tensor_by_name(\"input:0\")\n",
    "        phase_train_placeholder = tf.get_default_graph().get_tensor_by_name(\"phase_train:0\")\n",
    "        embeddings = tf.get_default_graph().get_tensor_by_name(\"embeddings:0\")\n",
    "        image_size = images_placeholder.get_shape()\n",
    "        \n",
    "        features = np.zeros((n_total_samples, 128))\n",
    "        for i in xrange(n_classes):\n",
    "            n_samples = len(dataset[i])\n",
    "            images = np.zeros((n_samples, image_size[1], image_size[2], image_size[3]))\n",
    "            for j in xrange(n_samples):\n",
    "                images[j, :, :, :] = misc.imread(dataset[i][j])\n",
    "            feed_dict = { images_placeholder:images, phase_train_placeholder:False }\n",
    "            features[(i*4):((i+1)*4), :] = sess.run(embeddings, feed_dict=feed_dict)"
   ]
  },
  {
   "cell_type": "code",
   "execution_count": 4,
   "metadata": {
    "collapsed": false
   },
   "outputs": [
    {
     "name": "stdout",
     "output_type": "stream",
     "text": [
      "(3884, 128)\n"
     ]
    },
    {
     "data": {
      "image/png": "[encoded data removed]",
      "text/plain": [
       "<matplotlib.figure.Figure at 0x7f9ab0232710>"
      ]
     },
     "metadata": {},
     "output_type": "display_data"
    }
   ],
   "source": [
    "print(features.shape)\n",
    "import sklearn.metrics.pairwise\n",
    "\n",
    "dm = sklearn.metrics.pairwise.euclidean_distances(features)\n",
    "\n",
    "%matplotlib inline\n",
    "import matplotlib.pyplot as plt\n",
    "\n",
    "plt.imshow(dm[0:40, 0:40], interpolation='nearest')\n",
    "plt.colorbar()\n",
    "plt.show()"
   ]
  }
 ],
 "metadata": {
  "kernelspec": {
   "display_name": "Python 2",
   "language": "python",
   "name": "python2"
  },
  "language_info": {
   "codemirror_mode": {
    "name": "ipython",
    "version": 2
   },
   "file_extension": ".py",
   "mimetype": "text/x-python",
   "name": "python",
   "nbconvert_exporter": "python",
   "pygments_lexer": "ipython2",
   "version": "2.7.6"
  }
 },
 "nbformat": 4,
 "nbformat_minor": 0
}
