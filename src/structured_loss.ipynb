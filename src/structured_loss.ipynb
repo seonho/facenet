{
 "cells": [
  {
   "cell_type": "code",
   "execution_count": 1,
   "metadata": {
    "collapsed": true
   },
   "outputs": [],
   "source": [
    "def structured_loss(positive, negative, alpha):\n",
    "    \"\"\"Calculate the structured loss based on all positive\n",
    "    and negative pairs of samples in the training set\n",
    "    \n",
    "    Args\n",
    "      positive\n",
    "      negative\n",
    "      alpha\n",
    "    Returns:\n",
    "      the structured loss according to the paper as a float tensor.\n",
    "    \"\"\"\n",
    "    \n",
    "    with tf.variable_scope('structured_loss'):\n",
    "        D_ij\n",
    "        J_ij = tf.add(tf.maximum(tf.reduce_max(tf.sub(alpha, D_ik)), tf.reduce_max(tf.sub(alpha, D_jl))), D_ij)\n",
    "        "
   ]
  }
 ],
 "metadata": {
  "kernelspec": {
   "display_name": "Python 2",
   "language": "python",
   "name": "python2"
  },
  "language_info": {
   "codemirror_mode": {
    "name": "ipython",
    "version": 2
   },
   "file_extension": ".py",
   "mimetype": "text/x-python",
   "name": "python",
   "nbconvert_exporter": "python",
   "pygments_lexer": "ipython2",
   "version": "2.7.6"
  }
 },
 "nbformat": 4,
 "nbformat_minor": 0
}
