{
 "cells": [
  {
   "cell_type": "code",
   "execution_count": 11,
   "metadata": {
    "collapsed": false
   },
   "outputs": [],
   "source": [
    "import json\n",
    "import os.path as osp\n",
    "import numpy as np\n",
    "\n",
    "base_path = '../datasets/CUHK01_original'\n",
    "\n",
    "with open(osp.join(base_path, 'split.json')) as f:\n",
    "    split = json.load(f)\n",
    "#     data = json.load(f)\n",
    "#     trainval = data['trainval']\n",
    "#     test_probe = data['test_probe']\n",
    "#     test_gallery = data['test_gallery']\n",
    "#     del data\n",
    "\n",
    "with open(osp.join(base_path, 'meta.json')) as f:\n",
    "    data = json.load(f)\n",
    "#     for key, value in data.items():\n",
    "#         print(key)\n",
    "    shot = data['shot']\n",
    "    identities = np.asarray(data['identities'])\n",
    "    dabase_name = data['name']\n",
    "    num_cameras = data['num_cameras']\n",
    "    del data"
   ]
  },
  {
   "cell_type": "code",
   "execution_count": 12,
   "metadata": {
    "collapsed": false,
    "scrolled": true
   },
   "outputs": [],
   "source": [
    "def _get_list(identities):\n",
    "    ret = []\n",
    "    for views in identities:\n",
    "        for v in views:\n",
    "            for file in v:\n",
    "                label = int(osp.basename(file)[:5])\n",
    "                ret.append((file, label))\n",
    "    return np.asarray(ret)\n",
    "\n",
    "val_ratio = 0.2\n",
    "\n",
    "trainval = identities[split['trainval']]\n",
    "trainval = _get_list(trainval)\n",
    "np.random.shuffle(trainval)\n",
    "num_val = int(len(trainval) * val_ratio)\n",
    "train = trainval[num_val:]\n",
    "val = trainval[:num_val]\n",
    "\n",
    "import os\n",
    "for i in range(len(train)):\n",
    "    pathname = train[i][0]\n",
    "    name = osp.split(pathname)[1][:5]\n",
    "    filename = pathname.replace('/', '_')\n",
    "    \n",
    "    target_path = osp.join(base_path, 'train', name)\n",
    "    if not osp.exists(target_path):\n",
    "        os.makedirs(target_path)\n",
    "        \n",
    "    os.symlink(osp.abspath(osp.join(base_path, pathname)), osp.join(target_path, filename))\n",
    "\n",
    "for i in range(len(val)):\n",
    "    pathname = val[i][0]\n",
    "    name = osp.split(pathname)[1][:5]\n",
    "    filename = pathname.replace('/', '_')\n",
    "    \n",
    "    target_path = osp.join(base_path, 'val', name)\n",
    "    if not osp.exists(target_path):\n",
    "        os.makedirs(target_path)\n",
    "        \n",
    "    os.symlink(osp.abspath(osp.join(base_path, pathname)), osp.join(target_path, filename))"
   ]
  }
 ],
 "metadata": {
  "kernelspec": {
   "display_name": "Python 2",
   "language": "python",
   "name": "python2"
  },
  "language_info": {
   "codemirror_mode": {
    "name": "ipython",
    "version": 2
   },
   "file_extension": ".py",
   "mimetype": "text/x-python",
   "name": "python",
   "nbconvert_exporter": "python",
   "pygments_lexer": "ipython2",
   "version": "2.7.10"
  }
 },
 "nbformat": 4,
 "nbformat_minor": 0
}
