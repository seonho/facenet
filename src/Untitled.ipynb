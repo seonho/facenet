{
 "cells": [
  {
   "cell_type": "code",
   "execution_count": 9,
   "metadata": {
    "collapsed": false
   },
   "outputs": [
    {
     "name": "stdout",
     "output_type": "stream",
     "text": [
      "(2, [0, 1, 2, 3, 4, 5, 6, 7, 8, 9])\n",
      "(6, [0, 1, 2, 3, 4, 5, 6, 7, 8, 9])\n",
      "(8, [0, 1, 2, 3, 4, 5, 6, 7, 8, 9])\n",
      "(3, [0, 1, 2, 3, 4, 5, 6, 7, 8, 9])\n",
      "(1, [0, 1, 2, 3, 4, 5, 6, 7, 8, 9])\n",
      "(0, [0, 1, 2, 3, 4, 5, 6, 7, 8, 9])\n",
      "(9, [0, 1, 2, 3, 4, 5, 6, 7, 8, 9])\n",
      "(7, [0, 1, 2, 3, 4, 5, 6, 7, 8, 9])\n",
      "(4, [0, 1, 2, 3, 4, 5, 6, 7, 8, 9])\n",
      "(5, [0, 1, 2, 3, 4, 5, 6, 7, 8, 9])\n",
      "(array([2, 6, 8, 3, 1, 0, 9, 7, 4, 5]), array([0, 1, 2, 3, 4, 5, 6, 7, 8, 9]))\n"
     ]
    }
   ],
   "source": [
    "import numpy as np\n",
    "\n",
    "glabels = np.arange(0, 10)\n",
    "plabels = np.arange(0, 10)\n",
    "ug = np.unique(glabels)\n",
    "ds = ug.size\n",
    "G = np.random.choice(ug, ds, replace=False)\n",
    "\n",
    "p_inds = [i for i in xrange(len(plabels)) if plabels[i] in G]\n",
    "P = plabels[p_inds]\n",
    "\n",
    "D = np.zeros((ds, P.size))\n",
    "for i, g in enumerate(G):\n",
    "    samples = np.where(glabels == g)[0]\n",
    "    j = np.random.choice(samples)\n",
    "    print(j, p_inds)\n",
    "    \n",
    "D = np.random.rand()"
   ]
  }
 ],
 "metadata": {
  "kernelspec": {
   "display_name": "Python 2",
   "language": "python",
   "name": "python2"
  },
  "language_info": {
   "codemirror_mode": {
    "name": "ipython",
    "version": 2
   },
   "file_extension": ".py",
   "mimetype": "text/x-python",
   "name": "python",
   "nbconvert_exporter": "python",
   "pygments_lexer": "ipython2",
   "version": "2.7.6"
  }
 },
 "nbformat": 4,
 "nbformat_minor": 0
}
